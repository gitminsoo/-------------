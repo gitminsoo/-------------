{
 "cells": [
  {
   "cell_type": "code",
   "execution_count": 1,
   "metadata": {},
   "outputs": [],
   "source": [
    "from keras import layers, models"
   ]
  },
  {
   "cell_type": "code",
   "execution_count": 4,
   "metadata": {},
   "outputs": [],
   "source": [
    "# 분산 방식\n",
    "def ANN_models_func(Nin, Nh, Nout):\n",
    "    x = layers.Input(shape=(Nin,))\n",
    "    # 원소를 Nin개 가지는 입력신호 벡터\n",
    "    h = layers.Activation('relu')(layers.Dense(Nh)(x))\n",
    "    # 노드가 Nh개이며 x를 입력으로 받음\n",
    "    # 파이썬은 객체를 만든 후 함수처럼 사용 가능\n",
    "    # layers.Dense(Nh)는 객체의 인스턴스이다.\n",
    "    # 즉 그 뒤에 x를 한다는 것은 함수처럼 사용하는 것\n",
    "    y = layers.Activation('softmax')(layers.Dense(Nout)(h))\n",
    "    # 출력 노드의 수는 Nout\n",
    "    # 출력 노드의 활성화 함수로 소프트맥스 연산 사용\n",
    "    model = models.Model(x,y)\n",
    "    # 이는 딥러닝 구조가 여러가지 딥러닝에 필요한\n",
    "    # 함수와 연계되도록 만드는 역할\n",
    "    model.compile(loss='categorical_crossentropy', \n",
    "                  optimizer='adam',metrics=['accuracy'])\n",
    "    # metrics는 성능검증을 위해 손실 뿐 아니라 \n",
    "    # 정확도도 측정하라는 의미\n",
    "    return model\n"
   ]
  },
  {
   "cell_type": "code",
   "execution_count": null,
   "metadata": {},
   "outputs": [],
   "source": [
    "# 연쇄 방식\n",
    "def ANN_seq_func(Nin, Nh, Nout):\n",
    "    model = models.Sequential()\n",
    "    model.add(layers.Dense(Nh,activation='relu',input_shape=(Nin,)))\n",
    "    model.add(layers.Dense(Nout,activation='softmax'))\n",
    "    model.compile(loss='categorical_crossemtropy',\n",
    "                    optimizer='adam',metrics=['accuracy'])\n",
    "    return model\n"
   ]
  }
 ],
 "metadata": {
  "kernelspec": {
   "display_name": "Python 3",
   "language": "python",
   "name": "python3"
  },
  "language_info": {
   "codemirror_mode": {
    "name": "ipython",
    "version": 3
   },
   "file_extension": ".py",
   "mimetype": "text/x-python",
   "name": "python",
   "nbconvert_exporter": "python",
   "pygments_lexer": "ipython3",
   "version": "3.9.13"
  }
 },
 "nbformat": 4,
 "nbformat_minor": 2
}
