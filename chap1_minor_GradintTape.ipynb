{
 "cells": [
  {
   "cell_type": "code",
   "execution_count": 1,
   "metadata": {},
   "outputs": [
    {
     "name": "stdout",
     "output_type": "stream",
     "text": [
      "D(w*x)=x with 3.0: Symb->2.0, TF->2.0\n"
     ]
    }
   ],
   "source": [
    "import tensorflow as tf\n",
    "import numpy\n",
    "\n",
    "w=tf.Variable(3.0)\n",
    "x = 2.0\n",
    "\n",
    "with tf.GradientTape() as tape:\n",
    "    y=w*x\n",
    "grad_tf = tape.gradient(y,w).numpy()\n",
    "grad_symbol = x\n",
    "print(f\"D(w*x)=x with {w.numpy()}: Symb->{grad_symbol}, TF->{grad_tf}\")"
   ]
  }
 ],
 "metadata": {
  "kernelspec": {
   "display_name": "Python 3",
   "language": "python",
   "name": "python3"
  },
  "language_info": {
   "codemirror_mode": {
    "name": "ipython",
    "version": 3
   },
   "file_extension": ".py",
   "mimetype": "text/x-python",
   "name": "python",
   "nbconvert_exporter": "python",
   "pygments_lexer": "ipython3",
   "version": "3.9.13"
  }
 },
 "nbformat": 4,
 "nbformat_minor": 2
}
